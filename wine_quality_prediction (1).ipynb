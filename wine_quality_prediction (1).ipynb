{
  "cells": [
    {
      "cell_type": "code",
      "execution_count": null,
      "metadata": {
        "id": "wZnKahxwzv9h"
      },
      "outputs": [],
      "source": [
        "import numpy as np\n",
        "import pandas as pd\n",
        "import seaborn as sns\n",
        "import matplotlib.pyplot as plt\n",
        "from sklearn.model_selection import train_test_split\n",
        "from sklearn.preprocessing import StandardScaler\n",
        "from sklearn.linear_model import LogisticRegression as lr\n",
        "from sklearn.tree import DecisionTreeClassifier as dt\n",
        "from sklearn.ensemble import RandomForestClassifier as rf\n",
        "from sklearn.ensemble import GradientBoostingClassifier as gb\n",
        "from sklearn.model_selection import GridSearchCV\n",
        "from sklearn.metrics import accuracy_score,confusion_matrix,precision_score,recall_score,f1_score,classification_report,ConfusionMatrixDisplay\n"
      ]
    },
    {
      "cell_type": "code",
      "execution_count": null,
      "metadata": {
        "id": "OVjXCxHb24_6"
      },
      "outputs": [],
      "source": [
        "# Load the dataset\n",
        "wine=pd.read_csv('/content/WineQT.csv')"
      ]
    },
    {
      "cell_type": "code",
      "execution_count": null,
      "metadata": {
        "id": "IsGbrE7_435t"
      },
      "outputs": [],
      "source": [
        "# datatype\n",
        "print(type(wine))"
      ]
    },
    {
      "cell_type": "code",
      "execution_count": null,
      "metadata": {
        "collapsed": true,
        "id": "Hf_SWGEv_OPf"
      },
      "outputs": [],
      "source": [
        "# information related to dataset\n",
        "print(wine.info())"
      ]
    },
    {
      "cell_type": "code",
      "execution_count": null,
      "metadata": {
        "id": "wPvxP-RC-zNl"
      },
      "outputs": [],
      "source": [
        "# checks for the missing values if any\n",
        "missing=wine.isnull().sum()\n",
        "print(missing)"
      ]
    },
    {
      "cell_type": "code",
      "execution_count": null,
      "metadata": {
        "collapsed": true,
        "id": "_4qOYkgw5hax"
      },
      "outputs": [],
      "source": [
        "# gives a brief about the structure of the dataset\n",
        "print(wine.head)"
      ]
    },
    {
      "cell_type": "code",
      "execution_count": null,
      "metadata": {
        "id": "MQxwwzUU29vm"
      },
      "outputs": [],
      "source": [
        "# check the features and labels in the dataset\n",
        "from collections import Counter\n",
        "x=wine.drop(columns=['quality','Id']) # dropping the target colum(quality) and id column\n",
        "y=wine['quality']\n",
        "x.shape\n",
        "y.shape\n",
        "print(Counter(y))"
      ]
    },
    {
      "cell_type": "code",
      "execution_count": null,
      "metadata": {
        "collapsed": true,
        "id": "pdfYMCQH3uL8"
      },
      "outputs": [],
      "source": [
        "# printing the features and targets\n",
        "print(\"features:\\n\",x.head())\n",
        "print(\"target:\\n\",y.head())"
      ]
    },
    {
      "cell_type": "markdown",
      "metadata": {
        "id": "_QfDucYl-zNm"
      },
      "source": [
        "Data Visualization"
      ]
    },
    {
      "cell_type": "code",
      "execution_count": null,
      "metadata": {
        "collapsed": true,
        "id": "GTi2nByQ2Vd2"
      },
      "outputs": [],
      "source": [
        "plt.figure(figsize=(20,6))\n",
        "sns.barplot(x)\n",
        "plt.title('Features')\n",
        "plt.show()"
      ]
    },
    {
      "cell_type": "code",
      "execution_count": null,
      "metadata": {
        "id": "V_JvwU6d9Wk6"
      },
      "outputs": [],
      "source": [
        "plt.figure(figsize=(8,4))\n",
        "sns.histplot(x=wine['quality'])\n",
        "plt.title('Target')\n",
        "plt.show()"
      ]
    },
    {
      "cell_type": "code",
      "execution_count": null,
      "metadata": {
        "collapsed": true,
        "id": "nUNY6eqr5Gn2"
      },
      "outputs": [],
      "source": [
        "plt.figure(figsize=(10,4))\n",
        "sns.lineplot(x=wine['fixed acidity'],y=wine['quality'],color='red')\n",
        "plt.title('Fixed Acidity plot')\n",
        "plt.show()\n"
      ]
    },
    {
      "cell_type": "code",
      "execution_count": null,
      "metadata": {
        "collapsed": true,
        "id": "w3GQLivyEDj_"
      },
      "outputs": [],
      "source": [
        "plt.figure(figsize=(10,4))\n",
        "sns.lineplot(x=wine['volatile acidity'],y=wine['quality'],color='green')\n",
        "plt.title('Volatile Acidity plot')\n",
        "plt.show()\n"
      ]
    },
    {
      "cell_type": "code",
      "execution_count": null,
      "metadata": {
        "collapsed": true,
        "id": "vZ8xOpKU7PKd"
      },
      "outputs": [],
      "source": [
        "plt.figure(figsize=(10,4))\n",
        "sns.lineplot(x=wine['citric acid'],y=wine['quality'],color='blue')\n",
        "plt.title('Citric Acid plot')\n",
        "plt.show()\n"
      ]
    },
    {
      "cell_type": "code",
      "execution_count": null,
      "metadata": {
        "collapsed": true,
        "id": "KNbd0b7HUhqt"
      },
      "outputs": [],
      "source": [
        "plt.figure(figsize=(10,4))\n",
        "sns.lineplot(x=wine['residual sugar'],y=wine['quality'],color='orange')\n",
        "plt.title('Residual sugar plot')\n",
        "plt.show()\n"
      ]
    },
    {
      "cell_type": "code",
      "execution_count": null,
      "metadata": {
        "collapsed": true,
        "id": "ljqCQhClFRaB"
      },
      "outputs": [],
      "source": [
        "plt.figure(figsize=(15,4))\n",
        "sns.lineplot(x=wine['chlorides'],y=wine['quality'],color='pink')\n",
        "plt.title('Chlorides plot')\n",
        "plt.show()\n"
      ]
    },
    {
      "cell_type": "code",
      "execution_count": null,
      "metadata": {
        "collapsed": true,
        "id": "8H4Idi1pFtMd"
      },
      "outputs": [],
      "source": [
        "plt.figure(figsize=(10,4))\n",
        "sns.lineplot(x=wine['free sulfur dioxide'],y=wine['quality'],color='grey')\n",
        "plt.title(' Free Sulfur Dioxide Plot')\n",
        "plt.show()\n"
      ]
    },
    {
      "cell_type": "code",
      "execution_count": null,
      "metadata": {
        "collapsed": true,
        "id": "VntAUwUsKpkA"
      },
      "outputs": [],
      "source": [
        "plt.figure(figsize=(10,4))\n",
        "sns.lineplot(x=wine['total sulfur dioxide'],y=wine['quality'],color='black')\n",
        "plt.title('Total Sulfur Dioxide Plot')\n",
        "plt.show()\n"
      ]
    },
    {
      "cell_type": "code",
      "execution_count": null,
      "metadata": {
        "collapsed": true,
        "id": "6aQsZPEzK2oF"
      },
      "outputs": [],
      "source": [
        "plt.figure(figsize=(10,4))\n",
        "sns.lineplot(x=wine['density'],y=wine['quality'],color='cyan')\n",
        "plt.title('Density Plot')\n",
        "plt.show()\n"
      ]
    },
    {
      "cell_type": "code",
      "execution_count": null,
      "metadata": {
        "collapsed": true,
        "id": "lSS-0zIuLEro"
      },
      "outputs": [],
      "source": [
        "plt.figure(figsize=(10,4))\n",
        "sns.lineplot(x=wine['pH'],y=wine['quality'],color='purple')\n",
        "plt.title('pH Plot')\n",
        "plt.show()\n"
      ]
    },
    {
      "cell_type": "code",
      "execution_count": null,
      "metadata": {
        "collapsed": true,
        "id": "kujm4xqfLqJ0"
      },
      "outputs": [],
      "source": [
        "plt.figure(figsize=(10,4))\n",
        "sns.lineplot(x=wine['sulphates'],y=wine['quality'],color='lightpink')\n",
        "plt.title('Sulphate Plot')\n",
        "plt.show()\n"
      ]
    },
    {
      "cell_type": "code",
      "execution_count": null,
      "metadata": {
        "collapsed": true,
        "id": "z-_mXwUfL9o8"
      },
      "outputs": [],
      "source": [
        "plt.figure(figsize=(10,4))\n",
        "sns.lineplot(x=wine['alcohol'],y=wine['quality'],color='maroon')\n",
        "plt.title('Alcohol Plot')\n",
        "plt.show()\n"
      ]
    },
    {
      "cell_type": "markdown",
      "metadata": {
        "id": "4tiis89e-zNp"
      },
      "source": [
        "MODEL TRAINING"
      ]
    },
    {
      "cell_type": "code",
      "execution_count": null,
      "metadata": {
        "id": "giDR-x47-zNp"
      },
      "outputs": [],
      "source": [
        "# splitting the dataset  into training and test data\n",
        "x_train,x_test,y_train,y_test=train_test_split(x,y,test_size=0.2,random_state=42)\n",
        "x_train.shape,x_test.shape,y_train.shape,y_test.shape"
      ]
    },
    {
      "cell_type": "code",
      "execution_count": null,
      "metadata": {
        "id": "7ZjxtSwa-zNq"
      },
      "outputs": [],
      "source": [
        "# feature scaling\n",
        "scaler=StandardScaler()\n",
        "x_train_sc=scaler.fit_transform(x_train)\n",
        "x_test_sc=scaler.transform(x_test)"
      ]
    },
    {
      "cell_type": "markdown",
      "metadata": {
        "id": "WXKjcIUb-zNq"
      },
      "source": [
        "Classification algorithms"
      ]
    },
    {
      "cell_type": "markdown",
      "metadata": {
        "id": "ykXWHMIoNei5"
      },
      "source": [
        "**LOGISTIC REGRESSION**"
      ]
    },
    {
      "cell_type": "code",
      "execution_count": null,
      "metadata": {
        "id": "tJ3LCGEiU3VP"
      },
      "outputs": [],
      "source": [
        "model1=lr(multi_class='multinomial',max_iter=1000,class_weight='balanced')"
      ]
    },
    {
      "cell_type": "code",
      "execution_count": null,
      "metadata": {
        "id": "nWwDKmTJQAi6"
      },
      "outputs": [],
      "source": [
        "param_grid1={\n",
        "    'C':[0.1],\n",
        "    'solver':['lbfgs'],\n",
        "    'penalty':['l2']\n",
        "\n",
        "}"
      ]
    },
    {
      "cell_type": "code",
      "execution_count": null,
      "metadata": {
        "collapsed": true,
        "id": "byevw9uJR0Jk"
      },
      "outputs": [],
      "source": [
        "grid_search=GridSearchCV(estimator=lr(),param_grid=param_grid1,cv=5,scoring='accuracy',error_score='raise')\n",
        "grid_search.fit(x_train_sc,y_train)"
      ]
    },
    {
      "cell_type": "code",
      "execution_count": null,
      "metadata": {
        "collapsed": true,
        "id": "5IF8JFxUSslo"
      },
      "outputs": [],
      "source": [
        "model1=grid_search.best_estimator_\n",
        "model1.fit(x_train_sc,y_train)"
      ]
    },
    {
      "cell_type": "code",
      "execution_count": null,
      "metadata": {
        "collapsed": true,
        "id": "mZcdrQxDH6cJ"
      },
      "outputs": [],
      "source": [
        "\n",
        "y_pred1=model1.predict(x_test_sc)\n",
        "# print(y_train[0:9])\n",
        "# print(y_pred1[0:9])\n",
        "print('Accuracy achieved',accuracy_score(y_test,y_pred1))\n",
        "print('Confusion Matrix:\\n ',confusion_matrix(y_test,y_pred1))\n",
        "print(\"Classification Report:\\n\",classification_report(y_test, y_pred1,zero_division=0))\n",
        "\n"
      ]
    },
    {
      "cell_type": "code",
      "execution_count": null,
      "metadata": {
        "id": "WJ6BN7vDOvfA"
      },
      "outputs": [],
      "source": [
        "cm=confusion_matrix(y_test,y_pred1)\n",
        "\n",
        "plt.figure(figsize=(6,6))\n",
        "disp=ConfusionMatrixDisplay(confusion_matrix=m)\n",
        "disp.plot(cmap=plt.cm.inferno)\n",
        "plt.title('Confusion Matrix')\n",
        "plt.show()\n",
        "\n"
      ]
    },
    {
      "cell_type": "markdown",
      "metadata": {
        "id": "vDDaeqyeNp4O"
      },
      "source": [
        "**DECISION TREE**"
      ]
    },
    {
      "cell_type": "code",
      "execution_count": null,
      "metadata": {
        "id": "8p7MeNuNGkY5"
      },
      "outputs": [],
      "source": [
        "model2=dt(random_state=42)"
      ]
    },
    {
      "cell_type": "code",
      "execution_count": null,
      "metadata": {
        "id": "mBLDbTPQGyDu"
      },
      "outputs": [],
      "source": [
        "param_grid2={\n",
        "    'criterion':['entropy'],\n",
        "    'max_depth':[None],\n",
        "    'min_samples_leaf':[1],\n",
        "    'min_samples_split':[2]\n",
        "\n",
        "}"
      ]
    },
    {
      "cell_type": "code",
      "execution_count": null,
      "metadata": {
        "collapsed": true,
        "id": "DulOaVREJK9B"
      },
      "outputs": [],
      "source": [
        "\n",
        "grid_search2=GridSearchCV(estimator=dt(),param_grid=param_grid2,cv=5,scoring='accuracy',error_score='raise')\n",
        "grid_search2.fit(x_train_sc,y_train)"
      ]
    },
    {
      "cell_type": "code",
      "execution_count": null,
      "metadata": {
        "collapsed": true,
        "id": "vWwkbhODJoPs"
      },
      "outputs": [],
      "source": [
        "model2=grid_search2.best_estimator_\n",
        "model2.fit(x_train_sc,y_train)"
      ]
    },
    {
      "cell_type": "code",
      "execution_count": null,
      "metadata": {
        "collapsed": true,
        "id": "h-WpuAr4TE1H"
      },
      "outputs": [],
      "source": [
        "y_pred2=model2.predict(x_test_sc)\n",
        "print(y_train[1:4])\n",
        "print(y_pred2[1:4])\n",
        "print('Accuracy acieved',(accuracy_score(y_test,y_pred2)*100))\n",
        "print('Confusion Matrix \\n',confusion_matrix(y_test,y_pred2))\n",
        "print(\"Classification Report:\\n\",classification_report(y_test, y_pred2,zero_division=0))\n"
      ]
    },
    {
      "cell_type": "code",
      "execution_count": null,
      "metadata": {
        "id": "GHg5-SbOXvtU"
      },
      "outputs": [],
      "source": [
        "cm2=confusion_matrix(y_test,y_pred2)\n",
        "\n",
        "plt.figure(figsize=(6,6))\n",
        "disp=ConfusionMatrixDisplay(confusion_matrix=cm2)\n",
        "disp.plot(cmap=plt.cm.inferno)\n",
        "plt.title('Confusion Matrix')\n",
        "plt.show()\n"
      ]
    },
    {
      "cell_type": "markdown",
      "metadata": {
        "id": "CWeGwgTMN13X"
      },
      "source": [
        "**RANDOM FOREST**"
      ]
    },
    {
      "cell_type": "code",
      "execution_count": null,
      "metadata": {
        "collapsed": true,
        "id": "r9Ixd9BRXcyN"
      },
      "outputs": [],
      "source": [
        "model3=rf(random_state=42)\n"
      ]
    },
    {
      "cell_type": "code",
      "execution_count": null,
      "metadata": {
        "id": "9ovZxyQck7Fu"
      },
      "outputs": [],
      "source": [
        "\n",
        "grid_param3={\n",
        "    'n_estimators':[100,200,200],\n",
        "    'max_depth':[10,20,30],\n",
        "    'min_samples_split':[2],\n",
        "    'min_samples_leaf':[1],\n",
        "\n",
        "\n",
        "}"
      ]
    },
    {
      "cell_type": "code",
      "execution_count": null,
      "metadata": {
        "collapsed": true,
        "id": "TlI9Kc7KlNX_"
      },
      "outputs": [],
      "source": [
        "grid_search3=GridSearchCV(estimator=model3,param_grid=grid_param3,cv=5,scoring='accuracy',error_score='raise')\n",
        "grid_search3.fit(x_train_sc,y_train)"
      ]
    },
    {
      "cell_type": "code",
      "execution_count": null,
      "metadata": {
        "id": "xhiSNqX7PNLF"
      },
      "outputs": [],
      "source": [
        "model3 = grid_search3.best_estimator_\n",
        "model3.fit(x_train_sc,y_train)"
      ]
    },
    {
      "cell_type": "code",
      "execution_count": null,
      "metadata": {
        "collapsed": true,
        "id": "t9WcrjdJlgov"
      },
      "outputs": [],
      "source": [
        "\n",
        "y_pred3 = model3.predict(x_test_sc)\n",
        "print(y_train[0:7])\n",
        "print(y_pred3[0:7])\n",
        "print('Accuracy achieved',accuracy_score(y_test,y_pred3)*100)\n",
        "print('Confusion Matrix:\\n ',confusion_matrix(y_test,y_pred3))\n",
        "print(\"Classification Report:\\n\",classification_report(y_test, y_pred3,zero_division=0))\n"
      ]
    },
    {
      "cell_type": "code",
      "execution_count": null,
      "metadata": {
        "id": "bCikLVVjYBog"
      },
      "outputs": [],
      "source": [
        "cm3=confusion_matrix(y_test,y_pred3)\n",
        "\n",
        "plt.figure(figsize=(6,6))\n",
        "disp=ConfusionMatrixDisplay(confusion_matrix=cm3)\n",
        "disp.plot(cmap=plt.cm.inferno)\n",
        "plt.title('Confusion Matrix')\n",
        "plt.show()\n"
      ]
    },
    {
      "cell_type": "markdown",
      "metadata": {
        "id": "wy0n7dGZOEes"
      },
      "source": [
        "**GRADIENT BOOSTING**"
      ]
    },
    {
      "cell_type": "code",
      "execution_count": null,
      "metadata": {
        "id": "OnkkzvifbOvZ"
      },
      "outputs": [],
      "source": [
        "model4=gb(random_state=42)"
      ]
    },
    {
      "cell_type": "code",
      "execution_count": null,
      "metadata": {
        "id": "2eI8zbLraIuv"
      },
      "outputs": [],
      "source": [
        "param_grid4={\n",
        "    'learning_rate': [0.05],\n",
        "    'n_estimators':[100,200,300],\n",
        "    'max_depth':[3],\n",
        "    'min_samples_split':[2],\n",
        "    'min_samples_leaf':[1],\n",
        "}"
      ]
    },
    {
      "cell_type": "code",
      "execution_count": null,
      "metadata": {
        "id": "j_v9wfyCaqoN"
      },
      "outputs": [],
      "source": [
        "grid_search4=GridSearchCV(estimator=gb(),param_grid=param_grid4,cv=5,scoring='accuracy',error_score='raise')\n",
        "grid_search4.fit(x_train_sc,y_train)"
      ]
    },
    {
      "cell_type": "code",
      "execution_count": null,
      "metadata": {
        "id": "_iv862POaxMx"
      },
      "outputs": [],
      "source": [
        "model4=grid_search4.best_estimator_\n",
        "model4.fit(x_train_sc,y_train)"
      ]
    },
    {
      "cell_type": "code",
      "execution_count": null,
      "metadata": {
        "collapsed": true,
        "id": "hwTSjs_cXy8z"
      },
      "outputs": [],
      "source": [
        "\n",
        "y_pred4=model4.predict(x_test_sc)\n",
        "print(y_train[10:17])\n",
        "print(y_pred4[10:17])\n",
        "print('Accuracy achieved',accuracy_score(y_test,y_pred4)*100)\n",
        "print('Confusion Matrix ',confusion_matrix(y_test,y_pred4))\n",
        "print(\"Classification Report (Micro Average):\")\n",
        "print(classification_report(y_test, y_pred4,zero_division=0))"
      ]
    },
    {
      "cell_type": "code",
      "execution_count": null,
      "metadata": {
        "collapsed": true,
        "id": "0b9zmojgYQft"
      },
      "outputs": [],
      "source": [
        "cm4=confusion_matrix(y_test,y_pred4)\n",
        "\n",
        "plt.figure(figsize=(6,6))\n",
        "disp=ConfusionMatrixDisplay(confusion_matrix=cm4)\n",
        "disp.plot(cmap=plt.cm.inferno)\n",
        "plt.title('Confusion Matrix')\n",
        "plt.show()\n"
      ]
    }
  ],
  "metadata": {
    "colab": {
      "provenance": []
    },
    "kernelspec": {
      "display_name": "Python 3",
      "name": "python3"
    },
    "language_info": {
      "codemirror_mode": {
        "name": "ipython",
        "version": 3
      },
      "file_extension": ".py",
      "mimetype": "text/x-python",
      "name": "python",
      "nbconvert_exporter": "python",
      "pygments_lexer": "ipython3",
      "version": "3.12.0"
    }
  },
  "nbformat": 4,
  "nbformat_minor": 0
}